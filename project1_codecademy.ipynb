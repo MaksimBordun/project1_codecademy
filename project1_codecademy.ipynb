{
 "cells": [
  {
   "cell_type": "code",
   "execution_count": 1,
   "id": "7e860041",
   "metadata": {},
   "outputs": [],
   "source": [
    "import pandas as pd\n",
    "import scv\n",
    "import matplotlib\n",
    "from faker import Faker"
   ]
  },
  {
   "cell_type": "code",
   "execution_count": 2,
   "id": "f9fdc80e",
   "metadata": {},
   "outputs": [],
   "source": [
    "with open(r\"C:\\Users\\maxbo\\Downloads\\project\\python-portfolio-project-starter-files\\insurance.csv\", newline='') as analysis:\n",
    "    check = analysis.read()\n",
    "    #print(check)"
   ]
  },
  {
   "cell_type": "code",
   "execution_count": 3,
   "id": "14264e83",
   "metadata": {},
   "outputs": [
    {
     "name": "stdout",
     "output_type": "stream",
     "text": [
      "      age     sex     bmi  children smoker     region      charges\n",
      "0      19  female  27.900         0    yes  southwest  16884.92400\n",
      "1      18    male  33.770         1     no  southeast   1725.55230\n",
      "2      28    male  33.000         3     no  southeast   4449.46200\n",
      "3      33    male  22.705         0     no  northwest  21984.47061\n",
      "4      32    male  28.880         0     no  northwest   3866.85520\n",
      "...   ...     ...     ...       ...    ...        ...          ...\n",
      "1333   50    male  30.970         3     no  northwest  10600.54830\n",
      "1334   18  female  31.920         0     no  northeast   2205.98080\n",
      "1335   18  female  36.850         0     no  southeast   1629.83350\n",
      "1336   21  female  25.800         0     no  southwest   2007.94500\n",
      "1337   61  female  29.070         0    yes  northwest  29141.36030\n",
      "\n",
      "[1338 rows x 7 columns]\n"
     ]
    }
   ],
   "source": [
    "analysis = pd.read_csv(r\"C:\\Users\\maxbo\\Downloads\\project\\python-portfolio-project-starter-files\\insurance.csv\") \n",
    "print(analysis)"
   ]
  },
  {
   "cell_type": "code",
   "execution_count": 4,
   "id": "375178fa",
   "metadata": {},
   "outputs": [
    {
     "name": "stdout",
     "output_type": "stream",
     "text": [
      "sex\n",
      "male      676\n",
      "female    662\n",
      "dtype: int64\n"
     ]
    }
   ],
   "source": [
    "counts = analysis.value_counts('sex')\n",
    "print(counts)"
   ]
  },
  {
   "cell_type": "code",
   "execution_count": 5,
   "id": "daebd3d6",
   "metadata": {},
   "outputs": [],
   "source": [
    "fake = Faker()\n",
    "faker_female = []\n",
    "faker_male = []\n",
    "\n",
    "for i in range(0, 662):\n",
    "    faker_female.append(fake.name_female())\n",
    "    #print(fake.name())\n",
    "\n",
    "for i in range(0, 676):\n",
    "    faker_male.append(fake.name_male())\n",
    "    #print(fake.name())    "
   ]
  },
  {
   "cell_type": "code",
   "execution_count": 6,
   "id": "4e2a6938",
   "metadata": {},
   "outputs": [],
   "source": [
    "male = analysis[analysis.sex == 'male']\n",
    "female = analysis[analysis.sex == 'female']\n",
    "male.insert(0, 'name', faker_male)\n",
    "female.insert(0, 'name', faker_female)"
   ]
  },
  {
   "cell_type": "code",
   "execution_count": 7,
   "id": "7fb2b9c8",
   "metadata": {},
   "outputs": [
    {
     "name": "stdout",
     "output_type": "stream",
     "text": [
      "                   name  age     sex    bmi  children smoker     region  \\\n",
      "0     Elizabeth Gardner   19  female  27.90         0    yes  southwest   \n",
      "5         Brittany Ball   31  female  25.74         0     no  southeast   \n",
      "6          Maria Wilson   46  female  33.44         1     no  southeast   \n",
      "7         Brooke Sutton   37  female  27.74         3     no  northwest   \n",
      "9      Kristina Simmons   60  female  25.84         0     no  northwest   \n",
      "...                 ...  ...     ...    ...       ...    ...        ...   \n",
      "1332      Melissa White   52  female  44.70         3     no  southwest   \n",
      "1334     Lisa Hernandez   18  female  31.92         0     no  northeast   \n",
      "1335      Laura Edwards   18  female  36.85         0     no  southeast   \n",
      "1336   Emily Villanueva   21  female  25.80         0     no  southwest   \n",
      "1337      Cindy Goodwin   61  female  29.07         0    yes  northwest   \n",
      "\n",
      "          charges  \n",
      "0     16884.92400  \n",
      "5      3756.62160  \n",
      "6      8240.58960  \n",
      "7      7281.50560  \n",
      "9     28923.13692  \n",
      "...           ...  \n",
      "1332  11411.68500  \n",
      "1334   2205.98080  \n",
      "1335   1629.83350  \n",
      "1336   2007.94500  \n",
      "1337  29141.36030  \n",
      "\n",
      "[662 rows x 8 columns]\n",
      "                 name  age   sex     bmi  children smoker     region  \\\n",
      "1       Jeffrey Lewis   18  male  33.770         1     no  southeast   \n",
      "2      Eduardo Snyder   28  male  33.000         3     no  southeast   \n",
      "3       Caleb Wheeler   33  male  22.705         0     no  northwest   \n",
      "4        Jeffrey Nash   32  male  28.880         0     no  northwest   \n",
      "8      David Williams   37  male  29.830         2     no  northeast   \n",
      "...               ...  ...   ...     ...       ...    ...        ...   \n",
      "1324      Alex Golden   31  male  25.935         1     no  northwest   \n",
      "1325  Darin Nicholson   61  male  33.535         0     no  northeast   \n",
      "1327       John Crane   51  male  30.030         1     no  southeast   \n",
      "1329        Eric Ford   52  male  38.600         2     no  southwest   \n",
      "1333       Randy Wood   50  male  30.970         3     no  northwest   \n",
      "\n",
      "          charges  \n",
      "1      1725.55230  \n",
      "2      4449.46200  \n",
      "3     21984.47061  \n",
      "4      3866.85520  \n",
      "8      6406.41070  \n",
      "...           ...  \n",
      "1324   4239.89265  \n",
      "1325  13143.33665  \n",
      "1327   9377.90470  \n",
      "1329  10325.20600  \n",
      "1333  10600.54830  \n",
      "\n",
      "[676 rows x 8 columns]\n"
     ]
    }
   ],
   "source": [
    "print(female)\n",
    "print(male)"
   ]
  },
  {
   "cell_type": "code",
   "execution_count": 8,
   "id": "868ac5b4",
   "metadata": {},
   "outputs": [],
   "source": [
    "analysis = pd.concat([male, female])\n"
   ]
  },
  {
   "cell_type": "code",
   "execution_count": 9,
   "id": "52c43f08",
   "metadata": {},
   "outputs": [
    {
     "name": "stdout",
     "output_type": "stream",
     "text": [
      "                   name  age     sex    bmi  children smoker     region  \\\n",
      "222         Aaron Brown   32    male  30.80         3     no  southwest   \n",
      "793          Aaron Dean   53    male  20.90         0    yes  southeast   \n",
      "1216        Aaron Dixon   40    male  25.08         0     no  southeast   \n",
      "355          Aaron Howe   46    male  27.60         0     no  southwest   \n",
      "756      Abigail Murphy   39  female  22.80         3     no  northeast   \n",
      "...                 ...  ...     ...    ...       ...    ...        ...   \n",
      "1009       Xavier Smith   51    male  27.74         1     no  northeast   \n",
      "201       Yolanda Ponce   48  female  32.23         1     no  southeast   \n",
      "207       Zachary Adams   35    male  27.74         2    yes  northeast   \n",
      "294       Zachary Jones   25    male  26.80         3     no  southwest   \n",
      "269   Zachary Middleton   49    male  25.84         1     no  northeast   \n",
      "\n",
      "       charges  \n",
      "222    5253.52  \n",
      "793   21195.82  \n",
      "1216   5415.66  \n",
      "355   24603.05  \n",
      "756    7985.82  \n",
      "...        ...  \n",
      "1009   9957.72  \n",
      "201    8871.15  \n",
      "207   20984.09  \n",
      "294    3906.13  \n",
      "269    9282.48  \n",
      "\n",
      "[1338 rows x 8 columns]\n"
     ]
    }
   ],
   "source": [
    "analysis = analysis.sort_values(by='name', ascending = True)\n",
    "analysis = analysis.round({'charges': 2, 'bmi': 2 })\n",
    "print(analysis)"
   ]
  },
  {
   "cell_type": "code",
   "execution_count": 10,
   "id": "346eece6",
   "metadata": {},
   "outputs": [
    {
     "name": "stdout",
     "output_type": "stream",
     "text": [
      "For men the average is charges: 13956.75$\n",
      "For female the average is charges: 12569.58$\n",
      "Difference average: 1387.17$\n"
     ]
    }
   ],
   "source": [
    "avg_male = male.charges.mean().round(2)\n",
    "avg_female = female.charges.mean().round(2)\n",
    "difference_avg = round((avg_male -avg_female),2) \n",
    "print('For men the average is charges: ' + str(avg_male) + '$')\n",
    "print('For female the average is charges: ' + str(avg_female) + '$')\n",
    "print('Difference average: ' + str(difference_avg) + '$')"
   ]
  },
  {
   "cell_type": "code",
   "execution_count": 11,
   "id": "be159935",
   "metadata": {},
   "outputs": [
    {
     "name": "stdout",
     "output_type": "stream",
     "text": [
      "If 5 childrean mean = 8786.04\n",
      "If 4 childrean mean = 11730.58\n",
      "If 3 childrean mean = 14576.0\n"
     ]
    }
   ],
   "source": [
    "max_children = analysis.children.max()\n",
    "max_children = analysis[analysis['children']>=5]\n",
    "max_children = max_children.charges.mean().round(2)\n",
    "children4 = analysis[analysis['children']>=4]\n",
    "children4 = children4.charges.mean().round(2)\n",
    "children3 = analysis[analysis['children']>=3]\n",
    "children3 = children3.charges.mean().round(2)\n",
    "\n",
    "print('If 5 childrean mean = ' + str(max_children))\n",
    "print('If 4 childrean mean = ' + str(children4))\n",
    "print('If 3 childrean mean = ' + str(children3))\n"
   ]
  },
  {
   "cell_type": "code",
   "execution_count": 12,
   "id": "2edcb751",
   "metadata": {},
   "outputs": [
    {
     "name": "stdout",
     "output_type": "stream",
     "text": [
      "smoke max charges = 63770.43\n",
      "smoke min charges = 12829.46\n",
      "smoke avg charges = 32050.23\n"
     ]
    }
   ],
   "source": [
    "smoke = analysis[analysis['smoker']== 'yes']\n",
    "smoke_max = smoke.charges.max().round(2)\n",
    "smoke_mix = smoke.charges.min().round(2)\n",
    "smoke_avg = smoke.charges.mean().round(2)\n",
    "\n",
    "print('smoke max charges = ' + str(smoke_max))\n",
    "print('smoke min charges = ' + str(smoke_mix))\n",
    "print('smoke avg charges = ' + str(smoke_avg))"
   ]
  },
  {
   "cell_type": "code",
   "execution_count": 13,
   "id": "fcb520ea",
   "metadata": {},
   "outputs": [
    {
     "name": "stdout",
     "output_type": "stream",
     "text": [
      "                name  age     sex    bmi  children smoker     region   charges\n",
      "543      Marie Weber   54  female  47.41         0    yes  southeast  63770.43\n",
      "1300     Chad Thomas   45    male  30.36         0    yes  southeast  62592.87\n",
      "1230  Edwin Castillo   52    male  34.48         3    yes  northwest  60021.40\n"
     ]
    }
   ],
   "source": [
    "max_charg = analysis.sort_values(by='charges', ascending = False)\n",
    "print(max_charg.head(3))"
   ]
  },
  {
   "cell_type": "code",
   "execution_count": 14,
   "id": "25be81e5",
   "metadata": {},
   "outputs": [
    {
     "name": "stdout",
     "output_type": "stream",
     "text": [
      "364\n",
      "325\n",
      "Difference: 39\n"
     ]
    }
   ],
   "source": [
    "southeast = analysis[analysis['region']== 'southeast']\n",
    "southeast = southeast.name.count()\n",
    "northwest = analysis[analysis['region']== 'northwest']\n",
    "northwest = northwest.name.count()\n",
    "print(southeast)\n",
    "print(northwest)\n",
    "print('Difference: ' + str(southeast-northwest))"
   ]
  },
  {
   "cell_type": "code",
   "execution_count": 49,
   "id": "7be5cabf",
   "metadata": {},
   "outputs": [
    {
     "name": "stdout",
     "output_type": "stream",
     "text": [
      "Mean in southeast: 14735.41\n",
      "Mean in southeast: 12417.58\n",
      "Median in southeast: 9294.13\n",
      "Median in southeast: 8965.8\n",
      "Difference between mean and median in southeast (5441, 2)\n",
      "Difference between mean and median in northwest (3452, 2)\n"
     ]
    }
   ],
   "source": [
    "southeast_mean = analysis[analysis['region']== 'southeast'].charges.mean().round(2)\n",
    "northwest_mean = analysis[analysis['region']== 'northwest'].charges.mean().round(2)\n",
    "southeast_median = analysis[analysis['region']== 'southeast'].charges.median().round(2)\n",
    "northwest_median = analysis[analysis['region']== 'northwest'].charges.median().round(2)\n",
    "\n",
    "print('Mean in southeast: ' + str(southeast_mean))\n",
    "print('Mean in southeast: ' + str(northwest_mean))\n",
    "print('Median in southeast: ' + str(southeast_median))\n",
    "print('Median in southeast: ' + str(northwest_median))\n",
    "mm = (round(southeast_mean - southeast_median),2)\n",
    "mm2 = (round(northwest_mean - northwest_median),2)\n",
    "print('Difference between mean and median in southeast ' + str(mm))\n",
    "print('Difference between mean and median in northwest ' + str(mm2))"
   ]
  }
 ],
 "metadata": {
  "kernelspec": {
   "display_name": "Python 3 (ipykernel)",
   "language": "python",
   "name": "python3"
  },
  "language_info": {
   "codemirror_mode": {
    "name": "ipython",
    "version": 3
   },
   "file_extension": ".py",
   "mimetype": "text/x-python",
   "name": "python",
   "nbconvert_exporter": "python",
   "pygments_lexer": "ipython3",
   "version": "3.9.13"
  }
 },
 "nbformat": 4,
 "nbformat_minor": 5
}
